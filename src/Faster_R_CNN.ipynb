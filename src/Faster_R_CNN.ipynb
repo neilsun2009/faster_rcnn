{
 "cells": [
  {
   "cell_type": "markdown",
   "metadata": {
    "colab_type": "text",
    "id": "BG38NSIQC-vA"
   },
   "source": [
    "# Faster R-CNN"
   ]
  },
  {
   "cell_type": "markdown",
   "metadata": {
    "colab_type": "text",
    "id": "MoyYWmD4Dles"
   },
   "source": [
    "## Environment"
   ]
  },
  {
   "cell_type": "code",
   "execution_count": 2,
   "metadata": {
    "colab": {},
    "colab_type": "code",
    "id": "-T4hKiVjQbKI"
   },
   "outputs": [
    {
     "name": "stdout",
     "output_type": "stream",
     "text": [
      "F:\\myMachineLearning\\faster_rcnn\\src/data\n"
     ]
    }
   ],
   "source": [
    "import tensorflow as tf\n",
    "from tensorflow import keras\n",
    "import numpy as np\n",
    "import losses\n",
    "import config\n",
    "import data_generator\n",
    "import roi_utils\n",
    "import rpn\n",
    "import resnet\n",
    "import pascal_voc_parser\n",
    "import os\n",
    "\n",
    "num_epochs = 2000\n",
    "data_path = os.path.abspath('.') + '/data'\n",
    "print(data_path)"
   ]
  },
  {
   "cell_type": "markdown",
   "metadata": {
    "colab_type": "text",
    "id": "e3jpTEFcDYUn"
   },
   "source": [
    "## Dataset"
   ]
  },
  {
   "cell_type": "code",
   "execution_count": 3,
   "metadata": {
    "colab": {
     "base_uri": "https://localhost:8080/",
     "height": 53
    },
    "colab_type": "code",
    "id": "AmRisKF7C4ER",
    "outputId": "9b305bf1-faa0-4061-9830-034e8a5686c0"
   },
   "outputs": [
    {
     "name": "stdout",
     "output_type": "stream",
     "text": [
      "Downloading data from http://pjreddie.com/media/files/VOCtrainval_06-Nov-2007.tar\n",
      "460038144/460032000 [==============================] - 429s 1us/step\n"
     ]
    }
   ],
   "source": [
    "# pascal voc 2007\n",
    "if not os.path.exists(data_path):\n",
    "  os.mkdir(data_path)\n",
    "annotation_zip = keras.utils.get_file(data_path + '/VOC2007.tar',\n",
    "                                        extract=True,\n",
    "                                        cache_subdir=data_path,\n",
    "                                        origin='http://pjreddie.com/media/files/VOCtrainval_06-Nov-2007.tar')"
   ]
  },
  {
   "cell_type": "code",
   "execution_count": 0,
   "metadata": {
    "colab": {},
    "colab_type": "code",
    "id": "H2Y5jZUARIz3"
   },
   "outputs": [],
   "source": [
    "# pascal voc 2012\n",
    "# annotation_zip = keras.utils.get_file(data_path + '/VOC2012.tar',\n",
    "#                                         extract=True,\n",
    "#                                         cache_subdir=data_path,\n",
    "#                                         origin='http://pjreddie.com/media/files/VOCtrainval_11-May-2012.tar')\n",
    "\n",
    "data_path += '/VOCdevkit/'"
   ]
  },
  {
   "cell_type": "code",
   "execution_count": 0,
   "metadata": {
    "colab": {},
    "colab_type": "code",
    "id": "W_L2XKl1S_X5"
   },
   "outputs": [],
   "source": [
    "all_imgs, classes_count, class_mapping = pascal_voc_parser.get_data(data_path)"
   ]
  }
 ],
 "metadata": {
  "colab": {
   "collapsed_sections": [],
   "name": "Faster R-CNN.ipynb",
   "provenance": [],
   "toc_visible": true,
   "version": "0.3.2"
  },
  "kernelspec": {
   "display_name": "Python 3",
   "language": "python",
   "name": "python3"
  },
  "language_info": {
   "codemirror_mode": {
    "name": "ipython",
    "version": 3
   },
   "file_extension": ".py",
   "mimetype": "text/x-python",
   "name": "python",
   "nbconvert_exporter": "python",
   "pygments_lexer": "ipython3",
   "version": "3.6.5"
  }
 },
 "nbformat": 4,
 "nbformat_minor": 1
}
